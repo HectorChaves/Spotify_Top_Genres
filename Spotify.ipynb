{
 "cells": [
  {
   "cell_type": "markdown",
   "metadata": {},
   "source": [
    "# Spotify - Principais Gêneros entre os top50"
   ]
  },
  {
   "cell_type": "markdown",
   "metadata": {},
   "source": [
    "Análise dos principais gêneros dos artistas presentes no top50 do spotify"
   ]
  },
  {
   "cell_type": "code",
   "execution_count": 302,
   "metadata": {
    "id": "TL10OOO0g49b"
   },
   "outputs": [],
   "source": [
    "import requests, pathlib, json\n",
    "from datetime import datetime\n",
    "import pandas as pd\n",
    "import numpy as np\n",
    "import matplotlib.pyplot as plt\n"
   ]
  },
  {
   "cell_type": "markdown",
   "metadata": {},
   "source": [
    "Credenciais em arquivo JSON"
   ]
  },
  {
   "cell_type": "code",
   "execution_count": 303,
   "metadata": {},
   "outputs": [],
   "source": [
    "with open('auth.json') as f:\n",
    "    auth = json.load(f)"
   ]
  },
  {
   "cell_type": "code",
   "execution_count": 304,
   "metadata": {
    "id": "jljkyqxbhNnw"
   },
   "outputs": [],
   "source": [
    "CLIENT_ID = auth['CLIENT_ID']\n",
    "CLIENT_SECRET = auth['CLIENT_SECRET']\n",
    "AUTH_URL = 'https://accounts.spotify.com/api/token'"
   ]
  },
  {
   "cell_type": "code",
   "execution_count": 305,
   "metadata": {
    "id": "LxnZ0t1MmAox"
   },
   "outputs": [],
   "source": [
    "auth_response = requests.post(AUTH_URL, {\n",
    "    'grant_type': 'client_credentials',\n",
    "    'client_id': CLIENT_ID,\n",
    "    'client_secret': CLIENT_SECRET,\n",
    "})"
   ]
  },
  {
   "cell_type": "code",
   "execution_count": 306,
   "metadata": {
    "id": "Nvn-zIPpmEtS"
   },
   "outputs": [],
   "source": [
    "auth_response_data = auth_response.json()\n",
    "access_token = auth_response_data['access_token']\n",
    "\n",
    "headers = {'Authorization': f'Bearer {access_token}'}"
   ]
  },
  {
   "cell_type": "markdown",
   "metadata": {},
   "source": [
    "## Teste de retorno da requisição de artista"
   ]
  },
  {
   "cell_type": "markdown",
   "metadata": {},
   "source": [
    "Utilizando a banda Rise Against. ID da banda obtido através do spotify player para navegador"
   ]
  },
  {
   "cell_type": "code",
   "execution_count": 307,
   "metadata": {
    "colab": {
     "base_uri": "https://localhost:8080/"
    },
    "id": "pSyJxQnnhaHa",
    "outputId": "c904297c-5eb6-4011-8eb6-f7339d919e37"
   },
   "outputs": [
    {
     "data": {
      "text/plain": [
       "{'external_urls': {'spotify': 'https://open.spotify.com/artist/6Wr3hh341P84m3EI8qdn9O'},\n",
       " 'followers': {'href': None, 'total': 2614346},\n",
       " 'genres': ['alternative metal',\n",
       "  'chicago hardcore',\n",
       "  'chicago punk',\n",
       "  'hardcore punk',\n",
       "  'modern rock',\n",
       "  'nu metal',\n",
       "  'pop punk',\n",
       "  'post-grunge',\n",
       "  'punk'],\n",
       " 'href': 'https://api.spotify.com/v1/artists/6Wr3hh341P84m3EI8qdn9O',\n",
       " 'id': '6Wr3hh341P84m3EI8qdn9O',\n",
       " 'images': [{'height': 640,\n",
       "   'url': 'https://i.scdn.co/image/ab6761610000e5eb8e19de59bac2628eb8929156',\n",
       "   'width': 640},\n",
       "  {'height': 320,\n",
       "   'url': 'https://i.scdn.co/image/ab676161000051748e19de59bac2628eb8929156',\n",
       "   'width': 320},\n",
       "  {'height': 160,\n",
       "   'url': 'https://i.scdn.co/image/ab6761610000f1788e19de59bac2628eb8929156',\n",
       "   'width': 160}],\n",
       " 'name': 'Rise Against',\n",
       " 'popularity': 72,\n",
       " 'type': 'artist',\n",
       " 'uri': 'spotify:artist:6Wr3hh341P84m3EI8qdn9O'}"
      ]
     },
     "execution_count": 307,
     "metadata": {},
     "output_type": "execute_result"
    }
   ],
   "source": [
    "#ARTISTAS\n",
    "url_artist = 'https://api.spotify.com/v1/artists/6Wr3hh341P84m3EI8qdn9O'\n",
    "\n",
    "response_artist = requests.get(url_artist, headers=headers).json()\n",
    "response_artist"
   ]
  },
  {
   "cell_type": "markdown",
   "metadata": {},
   "source": [
    "## Teste de retorno da requisição de playlist"
   ]
  },
  {
   "cell_type": "markdown",
   "metadata": {},
   "source": [
    "Utilizando a playlist TOP 50 - MUNDO. ID da playlist obtido através do spotify player para navegador"
   ]
  },
  {
   "cell_type": "code",
   "execution_count": 308,
   "metadata": {
    "colab": {
     "base_uri": "https://localhost:8080/"
    },
    "id": "x3Dht_HQqQq2",
    "outputId": "1a545e2f-8a89-408d-90a0-57f82088de3a"
   },
   "outputs": [
    {
     "data": {
      "text/plain": [
       "(dict_keys(['collaborative', 'description', 'external_urls', 'followers', 'href', 'id', 'images', 'name', 'owner', 'primary_color', 'public', 'snapshot_id', 'tracks', 'type', 'uri']),\n",
       " 'Top 50 - Global')"
      ]
     },
     "execution_count": 308,
     "metadata": {},
     "output_type": "execute_result"
    }
   ],
   "source": [
    "#PLAYLIST TOP 50 - MUNDO\n",
    "url_playlist = 'https://api.spotify.com/v1/playlists/37i9dQZEVXbMDoHDwVN2tF'\n",
    "\n",
    "response_playlist_test = requests.get(url_playlist, headers=headers).json()\n",
    "\n",
    "response_playlist_test.keys(), response_playlist_test['name']"
   ]
  },
  {
   "cell_type": "markdown",
   "metadata": {},
   "source": [
    "##  Teste de retorno da requisição de albúm"
   ]
  },
  {
   "cell_type": "markdown",
   "metadata": {},
   "source": [
    "Utilizando o albúm Charlie Brown Jr. - Acústico (Ao Vivo). ID do albúm obtido através do spotify player para navegador"
   ]
  },
  {
   "cell_type": "code",
   "execution_count": 309,
   "metadata": {
    "colab": {
     "base_uri": "https://localhost:8080/"
    },
    "id": "MLYg-upgt74B",
    "outputId": "9a08eeda-36d7-47cb-9980-de901f3c161d"
   },
   "outputs": [
    {
     "data": {
      "text/plain": [
       "(dict_keys(['album_group', 'album_type', 'artists', 'available_markets', 'copyrights', 'external_ids', 'external_urls', 'genres', 'href', 'id', 'images', 'label', 'name', 'popularity', 'release_date', 'release_date_precision', 'total_tracks', 'tracks', 'type', 'uri']),\n",
       " 'Charlie Brown Jr.',\n",
       " 'Acústico (Ao Vivo)')"
      ]
     },
     "execution_count": 309,
     "metadata": {},
     "output_type": "execute_result"
    }
   ],
   "source": [
    "#ALBUM Charlie Brown Jr. - Acústico (Ao Vivo)\n",
    "url_album = 'https://api.spotify.com/v1/albums/0AFkktyrrPtQvpIBqpRrc7'\n",
    "\n",
    "response_album_test = requests.get(url_album, headers=headers).json()\n",
    "response_album_test.keys(), response_album_test['artists'][0]['name'], response_album_test['name']"
   ]
  },
  {
   "cell_type": "markdown",
   "metadata": {},
   "source": [
    "## Teste de retorno da requisição de músicas da playlist"
   ]
  },
  {
   "cell_type": "markdown",
   "metadata": {},
   "source": [
    "Utilizando a música de posição 1 na playlist TOP 50 - MUNDO. ID da playlist obtido através do spotify player para navegador"
   ]
  },
  {
   "cell_type": "code",
   "execution_count": 310,
   "metadata": {
    "colab": {
     "base_uri": "https://localhost:8080/"
    },
    "id": "TgBoDBekuuV7",
    "outputId": "39cd419a-2649-432a-84b6-1946d1707982"
   },
   "outputs": [
    {
     "data": {
      "text/plain": [
       "50"
      ]
     },
     "execution_count": 310,
     "metadata": {},
     "output_type": "execute_result"
    }
   ],
   "source": [
    "#MUSICAS DA PLAYLIST\n",
    "url_playlist_tracks = 'https://api.spotify.com/v1/playlists/37i9dQZEVXbMDoHDwVN2tF/tracks'\n",
    "\n",
    "response_playlist_tracks_test = requests.get(url_playlist_tracks, headers=headers).json()\n",
    "\n",
    "len(response_playlist_tracks_test['items'])"
   ]
  },
  {
   "cell_type": "code",
   "execution_count": 311,
   "metadata": {},
   "outputs": [
    {
     "data": {
      "text/plain": [
       "dict_keys(['href', 'items', 'limit', 'next', 'offset', 'previous', 'total'])"
      ]
     },
     "execution_count": 311,
     "metadata": {},
     "output_type": "execute_result"
    }
   ],
   "source": [
    "response_playlist_tracks_test.keys()"
   ]
  },
  {
   "cell_type": "code",
   "execution_count": 312,
   "metadata": {},
   "outputs": [
    {
     "data": {
      "text/plain": [
       "{'added_at': '2023-04-28T13:10:52Z',\n",
       " 'added_by': {'external_urls': {'spotify': 'https://open.spotify.com/user/'},\n",
       "  'href': 'https://api.spotify.com/v1/users/',\n",
       "  'id': '',\n",
       "  'type': 'user',\n",
       "  'uri': 'spotify:user:'},\n",
       " 'is_local': False,\n",
       " 'primary_color': None,\n",
       " 'track': {'album': {'album_group': 'single',\n",
       "   'album_type': 'single',\n",
       "   'artists': [{'external_urls': {'spotify': 'https://open.spotify.com/artist/6XkjpgcEsYab502Vr1bBeW'},\n",
       "     'href': 'https://api.spotify.com/v1/artists/6XkjpgcEsYab502Vr1bBeW',\n",
       "     'id': '6XkjpgcEsYab502Vr1bBeW',\n",
       "     'name': 'Grupo Frontera',\n",
       "     'type': 'artist',\n",
       "     'uri': 'spotify:artist:6XkjpgcEsYab502Vr1bBeW'},\n",
       "    {'external_urls': {'spotify': 'https://open.spotify.com/artist/4q3ewBCX7sLwd24euuV69X'},\n",
       "     'href': 'https://api.spotify.com/v1/artists/4q3ewBCX7sLwd24euuV69X',\n",
       "     'id': '4q3ewBCX7sLwd24euuV69X',\n",
       "     'name': 'Bad Bunny',\n",
       "     'type': 'artist',\n",
       "     'uri': 'spotify:artist:4q3ewBCX7sLwd24euuV69X'}],\n",
       "   'available_markets': ['AD',\n",
       "    'AE',\n",
       "    'AG',\n",
       "    'AL',\n",
       "    'AM',\n",
       "    'AO',\n",
       "    'AR',\n",
       "    'AT',\n",
       "    'AU',\n",
       "    'AZ',\n",
       "    'BA',\n",
       "    'BB',\n",
       "    'BD',\n",
       "    'BE',\n",
       "    'BF',\n",
       "    'BG',\n",
       "    'BH',\n",
       "    'BI',\n",
       "    'BJ',\n",
       "    'BN',\n",
       "    'BO',\n",
       "    'BR',\n",
       "    'BS',\n",
       "    'BT',\n",
       "    'BW',\n",
       "    'BY',\n",
       "    'BZ',\n",
       "    'CA',\n",
       "    'CD',\n",
       "    'CG',\n",
       "    'CH',\n",
       "    'CI',\n",
       "    'CL',\n",
       "    'CM',\n",
       "    'CO',\n",
       "    'CR',\n",
       "    'CV',\n",
       "    'CW',\n",
       "    'CY',\n",
       "    'CZ',\n",
       "    'DE',\n",
       "    'DJ',\n",
       "    'DK',\n",
       "    'DM',\n",
       "    'DO',\n",
       "    'DZ',\n",
       "    'EC',\n",
       "    'EE',\n",
       "    'EG',\n",
       "    'ES',\n",
       "    'ET',\n",
       "    'FI',\n",
       "    'FJ',\n",
       "    'FM',\n",
       "    'FR',\n",
       "    'GA',\n",
       "    'GB',\n",
       "    'GD',\n",
       "    'GE',\n",
       "    'GH',\n",
       "    'GM',\n",
       "    'GN',\n",
       "    'GQ',\n",
       "    'GR',\n",
       "    'GT',\n",
       "    'GW',\n",
       "    'GY',\n",
       "    'HK',\n",
       "    'HN',\n",
       "    'HR',\n",
       "    'HT',\n",
       "    'HU',\n",
       "    'ID',\n",
       "    'IE',\n",
       "    'IL',\n",
       "    'IN',\n",
       "    'IQ',\n",
       "    'IS',\n",
       "    'IT',\n",
       "    'JM',\n",
       "    'JO',\n",
       "    'JP',\n",
       "    'KE',\n",
       "    'KG',\n",
       "    'KH',\n",
       "    'KI',\n",
       "    'KM',\n",
       "    'KN',\n",
       "    'KR',\n",
       "    'KW',\n",
       "    'KZ',\n",
       "    'LA',\n",
       "    'LB',\n",
       "    'LC',\n",
       "    'LI',\n",
       "    'LK',\n",
       "    'LR',\n",
       "    'LS',\n",
       "    'LT',\n",
       "    'LU',\n",
       "    'LV',\n",
       "    'LY',\n",
       "    'MA',\n",
       "    'MC',\n",
       "    'MD',\n",
       "    'ME',\n",
       "    'MG',\n",
       "    'MH',\n",
       "    'MK',\n",
       "    'ML',\n",
       "    'MN',\n",
       "    'MO',\n",
       "    'MR',\n",
       "    'MT',\n",
       "    'MU',\n",
       "    'MV',\n",
       "    'MW',\n",
       "    'MX',\n",
       "    'MY',\n",
       "    'MZ',\n",
       "    'NA',\n",
       "    'NE',\n",
       "    'NG',\n",
       "    'NI',\n",
       "    'NL',\n",
       "    'NO',\n",
       "    'NP',\n",
       "    'NR',\n",
       "    'NZ',\n",
       "    'OM',\n",
       "    'PA',\n",
       "    'PE',\n",
       "    'PG',\n",
       "    'PH',\n",
       "    'PK',\n",
       "    'PL',\n",
       "    'PS',\n",
       "    'PT',\n",
       "    'PW',\n",
       "    'PY',\n",
       "    'QA',\n",
       "    'RO',\n",
       "    'RS',\n",
       "    'RW',\n",
       "    'SA',\n",
       "    'SB',\n",
       "    'SC',\n",
       "    'SE',\n",
       "    'SG',\n",
       "    'SI',\n",
       "    'SK',\n",
       "    'SL',\n",
       "    'SM',\n",
       "    'SN',\n",
       "    'SR',\n",
       "    'ST',\n",
       "    'SV',\n",
       "    'SZ',\n",
       "    'TD',\n",
       "    'TG',\n",
       "    'TH',\n",
       "    'TJ',\n",
       "    'TL',\n",
       "    'TN',\n",
       "    'TO',\n",
       "    'TR',\n",
       "    'TT',\n",
       "    'TV',\n",
       "    'TW',\n",
       "    'TZ',\n",
       "    'UA',\n",
       "    'UG',\n",
       "    'US',\n",
       "    'UY',\n",
       "    'UZ',\n",
       "    'VC',\n",
       "    'VE',\n",
       "    'VN',\n",
       "    'VU',\n",
       "    'WS',\n",
       "    'XK',\n",
       "    'ZA',\n",
       "    'ZM',\n",
       "    'ZW'],\n",
       "   'external_urls': {'spotify': 'https://open.spotify.com/album/7aGzSSUD8S6IhPCsZSiuMT'},\n",
       "   'href': 'https://api.spotify.com/v1/albums/7aGzSSUD8S6IhPCsZSiuMT',\n",
       "   'id': '7aGzSSUD8S6IhPCsZSiuMT',\n",
       "   'images': [{'height': 640,\n",
       "     'url': 'https://i.scdn.co/image/ab67616d0000b273716c0b0ad51594ff788b5f06',\n",
       "     'width': 640},\n",
       "    {'height': 300,\n",
       "     'url': 'https://i.scdn.co/image/ab67616d00001e02716c0b0ad51594ff788b5f06',\n",
       "     'width': 300},\n",
       "    {'height': 64,\n",
       "     'url': 'https://i.scdn.co/image/ab67616d00004851716c0b0ad51594ff788b5f06',\n",
       "     'width': 64}],\n",
       "   'name': 'un x100to',\n",
       "   'release_date': '2023-04-17',\n",
       "   'release_date_precision': 'day',\n",
       "   'total_tracks': 1,\n",
       "   'type': 'album',\n",
       "   'uri': 'spotify:album:7aGzSSUD8S6IhPCsZSiuMT'},\n",
       "  'artists': [{'external_urls': {'spotify': 'https://open.spotify.com/artist/6XkjpgcEsYab502Vr1bBeW'},\n",
       "    'href': 'https://api.spotify.com/v1/artists/6XkjpgcEsYab502Vr1bBeW',\n",
       "    'id': '6XkjpgcEsYab502Vr1bBeW',\n",
       "    'name': 'Grupo Frontera',\n",
       "    'type': 'artist',\n",
       "    'uri': 'spotify:artist:6XkjpgcEsYab502Vr1bBeW'},\n",
       "   {'external_urls': {'spotify': 'https://open.spotify.com/artist/4q3ewBCX7sLwd24euuV69X'},\n",
       "    'href': 'https://api.spotify.com/v1/artists/4q3ewBCX7sLwd24euuV69X',\n",
       "    'id': '4q3ewBCX7sLwd24euuV69X',\n",
       "    'name': 'Bad Bunny',\n",
       "    'type': 'artist',\n",
       "    'uri': 'spotify:artist:4q3ewBCX7sLwd24euuV69X'}],\n",
       "  'available_markets': ['AR',\n",
       "   'AU',\n",
       "   'AT',\n",
       "   'BE',\n",
       "   'BO',\n",
       "   'BR',\n",
       "   'BG',\n",
       "   'CA',\n",
       "   'CL',\n",
       "   'CO',\n",
       "   'CR',\n",
       "   'CY',\n",
       "   'CZ',\n",
       "   'DK',\n",
       "   'DO',\n",
       "   'DE',\n",
       "   'EC',\n",
       "   'EE',\n",
       "   'SV',\n",
       "   'FI',\n",
       "   'FR',\n",
       "   'GR',\n",
       "   'GT',\n",
       "   'HN',\n",
       "   'HK',\n",
       "   'HU',\n",
       "   'IS',\n",
       "   'IE',\n",
       "   'IT',\n",
       "   'LV',\n",
       "   'LT',\n",
       "   'LU',\n",
       "   'MY',\n",
       "   'MT',\n",
       "   'MX',\n",
       "   'NL',\n",
       "   'NZ',\n",
       "   'NI',\n",
       "   'NO',\n",
       "   'PA',\n",
       "   'PY',\n",
       "   'PE',\n",
       "   'PH',\n",
       "   'PL',\n",
       "   'PT',\n",
       "   'SG',\n",
       "   'SK',\n",
       "   'ES',\n",
       "   'SE',\n",
       "   'CH',\n",
       "   'TW',\n",
       "   'TR',\n",
       "   'UY',\n",
       "   'US',\n",
       "   'GB',\n",
       "   'AD',\n",
       "   'LI',\n",
       "   'MC',\n",
       "   'ID',\n",
       "   'JP',\n",
       "   'TH',\n",
       "   'VN',\n",
       "   'RO',\n",
       "   'IL',\n",
       "   'ZA',\n",
       "   'SA',\n",
       "   'AE',\n",
       "   'BH',\n",
       "   'QA',\n",
       "   'OM',\n",
       "   'KW',\n",
       "   'EG',\n",
       "   'MA',\n",
       "   'DZ',\n",
       "   'TN',\n",
       "   'LB',\n",
       "   'JO',\n",
       "   'PS',\n",
       "   'IN',\n",
       "   'BY',\n",
       "   'KZ',\n",
       "   'MD',\n",
       "   'UA',\n",
       "   'AL',\n",
       "   'BA',\n",
       "   'HR',\n",
       "   'ME',\n",
       "   'MK',\n",
       "   'RS',\n",
       "   'SI',\n",
       "   'KR',\n",
       "   'BD',\n",
       "   'PK',\n",
       "   'LK',\n",
       "   'GH',\n",
       "   'KE',\n",
       "   'NG',\n",
       "   'TZ',\n",
       "   'UG',\n",
       "   'AG',\n",
       "   'AM',\n",
       "   'BS',\n",
       "   'BB',\n",
       "   'BZ',\n",
       "   'BT',\n",
       "   'BW',\n",
       "   'BF',\n",
       "   'CV',\n",
       "   'CW',\n",
       "   'DM',\n",
       "   'FJ',\n",
       "   'GM',\n",
       "   'GE',\n",
       "   'GD',\n",
       "   'GW',\n",
       "   'GY',\n",
       "   'HT',\n",
       "   'JM',\n",
       "   'KI',\n",
       "   'LS',\n",
       "   'LR',\n",
       "   'MW',\n",
       "   'MV',\n",
       "   'ML',\n",
       "   'MH',\n",
       "   'FM',\n",
       "   'NA',\n",
       "   'NR',\n",
       "   'NE',\n",
       "   'PW',\n",
       "   'PG',\n",
       "   'WS',\n",
       "   'SM',\n",
       "   'ST',\n",
       "   'SN',\n",
       "   'SC',\n",
       "   'SL',\n",
       "   'SB',\n",
       "   'KN',\n",
       "   'LC',\n",
       "   'VC',\n",
       "   'SR',\n",
       "   'TL',\n",
       "   'TO',\n",
       "   'TT',\n",
       "   'TV',\n",
       "   'VU',\n",
       "   'AZ',\n",
       "   'BN',\n",
       "   'BI',\n",
       "   'KH',\n",
       "   'CM',\n",
       "   'TD',\n",
       "   'KM',\n",
       "   'GQ',\n",
       "   'SZ',\n",
       "   'GA',\n",
       "   'GN',\n",
       "   'KG',\n",
       "   'LA',\n",
       "   'MO',\n",
       "   'MR',\n",
       "   'MN',\n",
       "   'NP',\n",
       "   'RW',\n",
       "   'TG',\n",
       "   'UZ',\n",
       "   'ZW',\n",
       "   'BJ',\n",
       "   'MG',\n",
       "   'MU',\n",
       "   'MZ',\n",
       "   'AO',\n",
       "   'CI',\n",
       "   'DJ',\n",
       "   'ZM',\n",
       "   'CD',\n",
       "   'CG',\n",
       "   'IQ',\n",
       "   'LY',\n",
       "   'TJ',\n",
       "   'VE',\n",
       "   'ET',\n",
       "   'XK'],\n",
       "  'disc_number': 1,\n",
       "  'duration_ms': 194563,\n",
       "  'episode': False,\n",
       "  'explicit': False,\n",
       "  'external_ids': {'isrc': 'QM6N22311285'},\n",
       "  'external_urls': {'spotify': 'https://open.spotify.com/track/6pD0ufEQq0xdHSsRbg9LBK'},\n",
       "  'href': 'https://api.spotify.com/v1/tracks/6pD0ufEQq0xdHSsRbg9LBK',\n",
       "  'id': '6pD0ufEQq0xdHSsRbg9LBK',\n",
       "  'is_local': False,\n",
       "  'name': 'un x100to',\n",
       "  'popularity': 96,\n",
       "  'preview_url': 'https://p.scdn.co/mp3-preview/15117af933a505dd75ecd33d15f2d4d3e13bdf9a?cid=6a21e25801a94fbea27982c097f86b72',\n",
       "  'track': True,\n",
       "  'track_number': 1,\n",
       "  'type': 'track',\n",
       "  'uri': 'spotify:track:6pD0ufEQq0xdHSsRbg9LBK'},\n",
       " 'video_thumbnail': {'url': None}}"
      ]
     },
     "execution_count": 312,
     "metadata": {},
     "output_type": "execute_result"
    }
   ],
   "source": [
    "response_playlist_tracks_test['items'][0]"
   ]
  },
  {
   "cell_type": "code",
   "execution_count": 313,
   "metadata": {},
   "outputs": [
    {
     "data": {
      "text/plain": [
       "'un x100to'"
      ]
     },
     "execution_count": 313,
     "metadata": {},
     "output_type": "execute_result"
    }
   ],
   "source": [
    "response_playlist_tracks_test['items'][0]['track']['name']\n",
    "            "
   ]
  },
  {
   "cell_type": "code",
   "execution_count": 314,
   "metadata": {
    "colab": {
     "base_uri": "https://localhost:8080/"
    },
    "id": "UcG__NXUvwds",
    "outputId": "7de13f23-6873-45d0-8481-87100f8ad8a2"
   },
   "outputs": [
    {
     "name": "stdout",
     "output_type": "stream",
     "text": [
      "Grupo Frontera\n",
      "Bad Bunny\n"
     ]
    }
   ],
   "source": [
    "artistas = response_playlist_tracks_test['items'][0]['track']['artists']\n",
    "\n",
    "for i in range(len(artistas)):\n",
    "    print(artistas[i]['name'])"
   ]
  },
  {
   "cell_type": "markdown",
   "metadata": {},
   "source": [
    "## Extraindo informações de gênero presentes nas músicas do top50 (Brasil ou Mundo)"
   ]
  },
  {
   "cell_type": "markdown",
   "metadata": {},
   "source": [
    "A informaçãode gênero é vinculada ao artista e não à música. Como uma música pode ter a participação de vários artistas, é possível que um gênero apareça mais de uma vez para a mesma música"
   ]
  },
  {
   "cell_type": "code",
   "execution_count": 315,
   "metadata": {
    "id": "ZC1-vVRCzrjM"
   },
   "outputs": [],
   "source": [
    "#PLAYLISTS UTILIZADOS PARA OS CÁLCULOS\n",
    "top_50 = '37i9dQZEVXbMDoHDwVN2tF'\n",
    "top_50_brasil = '37i9dQZEVXbMXbN3EUUhlg'\n",
    "\n",
    "playlist_id = top_50\n",
    "\n",
    "response_playlist = requests.get(f'https://api.spotify.com/v1/playlists/{playlist_id}/tracks', headers=headers).json()"
   ]
  },
  {
   "cell_type": "code",
   "execution_count": 316,
   "metadata": {
    "id": "-4u6fV4b2lXf"
   },
   "outputs": [],
   "source": [
    "#EXTRAI O NOME DE TODOS OS ARTISTAS DA MÚSICA\n",
    "def get_artists_by_track(artists_in_track):\n",
    "\n",
    "  artists = []\n",
    "\n",
    "  for i in range(len(artists_in_track)):\n",
    "    artists.append(artists_in_track[i]['name'])\n",
    "\n",
    "  return artists"
   ]
  },
  {
   "cell_type": "code",
   "execution_count": 317,
   "metadata": {
    "id": "tIxyT0LW5bNb"
   },
   "outputs": [],
   "source": [
    "#EXTRAI O ID DE TODOS OS ARTISTAS DA MÚSICA\n",
    "def get_artists_ids_by_track(artists_in_track):\n",
    "\n",
    "  ids = []\n",
    "\n",
    "  for i in range(len(artists_in_track)):\n",
    "    ids.append(artists_in_track[i]['id'])\n",
    "\n",
    "  return ids"
   ]
  },
  {
   "cell_type": "code",
   "execution_count": 318,
   "metadata": {
    "colab": {
     "base_uri": "https://localhost:8080/"
    },
    "id": "6NdLhJeT26_R",
    "outputId": "56a006fc-d95d-44ed-925a-bb4e725a6169"
   },
   "outputs": [
    {
     "data": {
      "text/plain": [
       "[{'external_urls': {'spotify': 'https://open.spotify.com/artist/6XkjpgcEsYab502Vr1bBeW'},\n",
       "  'href': 'https://api.spotify.com/v1/artists/6XkjpgcEsYab502Vr1bBeW',\n",
       "  'id': '6XkjpgcEsYab502Vr1bBeW',\n",
       "  'name': 'Grupo Frontera',\n",
       "  'type': 'artist',\n",
       "  'uri': 'spotify:artist:6XkjpgcEsYab502Vr1bBeW'},\n",
       " {'external_urls': {'spotify': 'https://open.spotify.com/artist/4q3ewBCX7sLwd24euuV69X'},\n",
       "  'href': 'https://api.spotify.com/v1/artists/4q3ewBCX7sLwd24euuV69X',\n",
       "  'id': '4q3ewBCX7sLwd24euuV69X',\n",
       "  'name': 'Bad Bunny',\n",
       "  'type': 'artist',\n",
       "  'uri': 'spotify:artist:4q3ewBCX7sLwd24euuV69X'}]"
      ]
     },
     "execution_count": 318,
     "metadata": {},
     "output_type": "execute_result"
    }
   ],
   "source": [
    "response_playlist['items'][0]['track']['artists']"
   ]
  },
  {
   "cell_type": "code",
   "execution_count": 331,
   "metadata": {
    "colab": {
     "base_uri": "https://localhost:8080/"
    },
    "id": "YCxpTWqu1iX1",
    "outputId": "81438922-8d36-4162-9a1e-aaa29fba43b9"
   },
   "outputs": [],
   "source": [
    "#RETORNA UMA LISTA COM O NOME DE TODOS OS ARTISTAS DO TOP 50 E OUTRA LISTA COM TODOS OS IDS DESSES ARTISTAS\n",
    "artists_top50 = []\n",
    "ids_artists_top50 = []\n",
    "\n",
    "for i in range(len(response_playlist['items'])):\n",
    "  artists_top50.append(get_artists_by_track(response_playlist['items'][i]['track']['artists']))\n",
    "  ids_artists_top50.append(get_artists_ids_by_track(response_playlist['items'][i]['track']['artists']))\n"
   ]
  },
  {
   "cell_type": "code",
   "execution_count": 333,
   "metadata": {},
   "outputs": [],
   "source": [
    "#artists_top50, ids_artists_top50"
   ]
  },
  {
   "cell_type": "code",
   "execution_count": 320,
   "metadata": {},
   "outputs": [
    {
     "data": {
      "text/plain": [
       "['musica chihuahuense', 'nueva musica mexicana']"
      ]
     },
     "execution_count": 320,
     "metadata": {},
     "output_type": "execute_result"
    }
   ],
   "source": [
    "requests.get(url_artist_by_id + ids_artists_top50[0][0], headers=headers).json()['genres']"
   ]
  },
  {
   "cell_type": "code",
   "execution_count": 321,
   "metadata": {
    "colab": {
     "base_uri": "https://localhost:8080/",
     "height": 911
    },
    "id": "NVBBXubcEXAp",
    "outputId": "56be74a3-29f5-4d0e-fb6a-d74f89875a75"
   },
   "outputs": [
    {
     "name": "stdout",
     "output_type": "stream",
     "text": [
      "CPU times: total: 203 ms\n",
      "Wall time: 53.4 s\n"
     ]
    }
   ],
   "source": [
    "%%time\n",
    "#RETORNA UMA LISTA COM TODOS OS GÊNEROS DE TODOS OS ARTISTAS DAS MÚSICA\n",
    "genres = []\n",
    "\n",
    "url_artist_by_id = f'https://api.spotify.com/v1/artists/'\n",
    "\n",
    "for i in range(len(ids_artists_top50)):\n",
    "  genres_item = []\n",
    "  for j in range(len(ids_artists_top50[i])):\n",
    "    response_artist_by_id = requests.get(url_artist_by_id + ids_artists_top50[i][j], headers=headers).json()['genres']\n",
    "    for k in range(len(response_artist_by_id)):\n",
    "      genres_item.append(response_artist_by_id[k])\n",
    "  genres.append(np.unique(genres_item).tolist())\n",
    "  #genres.append(set(genres_item))\n"
   ]
  },
  {
   "cell_type": "code",
   "execution_count": 334,
   "metadata": {},
   "outputs": [],
   "source": [
    "#genres"
   ]
  },
  {
   "cell_type": "code",
   "execution_count": 323,
   "metadata": {
    "id": "YufCYNrfAoIK"
   },
   "outputs": [],
   "source": [
    "#CONVERTE TODOS OS ELEMENTOS DE UMA LISTA PARA UMA STRING\n",
    "def list_to_str(list_received):\n",
    "  new_list = []\n",
    "\n",
    "  for i in range(len(list_received)):\n",
    "    new_list.append(','.join(list_received[i]))\n",
    "  \n",
    "  return new_list"
   ]
  },
  {
   "cell_type": "code",
   "execution_count": 336,
   "metadata": {
    "id": "-nzN9KtRJ2Op"
   },
   "outputs": [],
   "source": [
    "artists_series = pd.Series(list_to_str(artists_top50))\n",
    "genres_series = pd.Series(list_to_str(genres))"
   ]
  },
  {
   "cell_type": "code",
   "execution_count": 338,
   "metadata": {},
   "outputs": [],
   "source": [
    "#artists_series, genres_series"
   ]
  },
  {
   "cell_type": "code",
   "execution_count": 325,
   "metadata": {
    "id": "957MWgNJKtig"
   },
   "outputs": [
    {
     "data": {
      "text/html": [
       "<div>\n",
       "<style scoped>\n",
       "    .dataframe tbody tr th:only-of-type {\n",
       "        vertical-align: middle;\n",
       "    }\n",
       "\n",
       "    .dataframe tbody tr th {\n",
       "        vertical-align: top;\n",
       "    }\n",
       "\n",
       "    .dataframe thead th {\n",
       "        text-align: right;\n",
       "    }\n",
       "</style>\n",
       "<table border=\"1\" class=\"dataframe\">\n",
       "  <thead>\n",
       "    <tr style=\"text-align: right;\">\n",
       "      <th></th>\n",
       "      <th>Artistas</th>\n",
       "      <th>Generos</th>\n",
       "    </tr>\n",
       "  </thead>\n",
       "  <tbody>\n",
       "    <tr>\n",
       "      <th>0</th>\n",
       "      <td>Grupo Frontera,Bad Bunny</td>\n",
       "      <td>musica chihuahuense,nueva musica mexicana,regg...</td>\n",
       "    </tr>\n",
       "    <tr>\n",
       "      <th>1</th>\n",
       "      <td>Eslabon Armado,Peso Pluma</td>\n",
       "      <td>corrido,corridos tumbados,nueva musica mexican...</td>\n",
       "    </tr>\n",
       "    <tr>\n",
       "      <th>2</th>\n",
       "      <td>Yng Lvcas,Peso Pluma</td>\n",
       "      <td>corrido,nueva musica mexicana,sad sierreno</td>\n",
       "    </tr>\n",
       "    <tr>\n",
       "      <th>3</th>\n",
       "      <td>Miley Cyrus</td>\n",
       "      <td>pop</td>\n",
       "    </tr>\n",
       "    <tr>\n",
       "      <th>4</th>\n",
       "      <td>David Kushner</td>\n",
       "      <td>gen z singer-songwriter</td>\n",
       "    </tr>\n",
       "    <tr>\n",
       "      <th>5</th>\n",
       "      <td>FIFTY FIFTY</td>\n",
       "      <td>k-pop girl group</td>\n",
       "    </tr>\n",
       "    <tr>\n",
       "      <th>6</th>\n",
       "      <td>KAROL G,Shakira</td>\n",
       "      <td>colombian pop,dance pop,latin pop,pop,reggaeto...</td>\n",
       "    </tr>\n",
       "    <tr>\n",
       "      <th>7</th>\n",
       "      <td>SZA</td>\n",
       "      <td>pop,r&amp;b,rap</td>\n",
       "    </tr>\n",
       "    <tr>\n",
       "      <th>8</th>\n",
       "      <td>Feid,Young Miko</td>\n",
       "      <td>colombian pop,pop reggaeton,reggaeton colombia...</td>\n",
       "    </tr>\n",
       "    <tr>\n",
       "      <th>9</th>\n",
       "      <td>Harry Styles</td>\n",
       "      <td>pop</td>\n",
       "    </tr>\n",
       "    <tr>\n",
       "      <th>10</th>\n",
       "      <td>ROSALÍA,Rauw Alejandro</td>\n",
       "      <td>pop,puerto rican pop,r&amp;b en espanol,reggaeton,...</td>\n",
       "    </tr>\n",
       "    <tr>\n",
       "      <th>11</th>\n",
       "      <td>Peso Pluma,Natanael Cano</td>\n",
       "      <td>corrido,corridos tumbados,musica mexicana,nuev...</td>\n",
       "    </tr>\n",
       "    <tr>\n",
       "      <th>12</th>\n",
       "      <td>Metro Boomin,The Weeknd,21 Savage</td>\n",
       "      <td>atl hip hop,canadian contemporary r&amp;b,canadian...</td>\n",
       "    </tr>\n",
       "    <tr>\n",
       "      <th>13</th>\n",
       "      <td>The Weeknd,Ariana Grande</td>\n",
       "      <td>canadian contemporary r&amp;b,canadian pop,pop</td>\n",
       "    </tr>\n",
       "    <tr>\n",
       "      <th>14</th>\n",
       "      <td>PinkPantheress,Ice Spice</td>\n",
       "      <td>bronx drill</td>\n",
       "    </tr>\n",
       "    <tr>\n",
       "      <th>15</th>\n",
       "      <td>Rema,Selena Gomez</td>\n",
       "      <td>afrobeats,nigerian pop,pop,post-teen pop</td>\n",
       "    </tr>\n",
       "    <tr>\n",
       "      <th>16</th>\n",
       "      <td>Yandel,Feid</td>\n",
       "      <td>colombian pop,latin hip hop,pop reggaeton,regg...</td>\n",
       "    </tr>\n",
       "    <tr>\n",
       "      <th>17</th>\n",
       "      <td>Junior H,Peso Pluma</td>\n",
       "      <td>corrido,corridos tumbados,musica mexicana,nuev...</td>\n",
       "    </tr>\n",
       "    <tr>\n",
       "      <th>18</th>\n",
       "      <td>Natanael Cano,Peso Pluma,Gabito Ballesteros</td>\n",
       "      <td>corrido,corridos tumbados,musica mexicana,nuev...</td>\n",
       "    </tr>\n",
       "    <tr>\n",
       "      <th>19</th>\n",
       "      <td>Tyler, The Creator,Kali Uchis</td>\n",
       "      <td>colombian pop,hip hop,rap</td>\n",
       "    </tr>\n",
       "    <tr>\n",
       "      <th>20</th>\n",
       "      <td>The Weeknd,Future</td>\n",
       "      <td>atl hip hop,canadian contemporary r&amp;b,canadian...</td>\n",
       "    </tr>\n",
       "    <tr>\n",
       "      <th>21</th>\n",
       "      <td>The Weeknd</td>\n",
       "      <td>canadian contemporary r&amp;b,canadian pop,pop</td>\n",
       "    </tr>\n",
       "    <tr>\n",
       "      <th>22</th>\n",
       "      <td>Taylor Swift</td>\n",
       "      <td>pop</td>\n",
       "    </tr>\n",
       "    <tr>\n",
       "      <th>23</th>\n",
       "      <td>Agust D</td>\n",
       "      <td>k-rap</td>\n",
       "    </tr>\n",
       "    <tr>\n",
       "      <th>24</th>\n",
       "      <td>David Guetta,Bebe Rexha</td>\n",
       "      <td>big room,dance pop,edm,pop,pop dance</td>\n",
       "    </tr>\n",
       "    <tr>\n",
       "      <th>25</th>\n",
       "      <td>Morgan Wallen</td>\n",
       "      <td>contemporary country</td>\n",
       "    </tr>\n",
       "    <tr>\n",
       "      <th>26</th>\n",
       "      <td>Bizarrap,Shakira</td>\n",
       "      <td>argentine hip hop,colombian pop,dance pop,lati...</td>\n",
       "    </tr>\n",
       "    <tr>\n",
       "      <th>27</th>\n",
       "      <td>The Weeknd,Daft Punk</td>\n",
       "      <td>canadian contemporary r&amp;b,canadian pop,electro...</td>\n",
       "    </tr>\n",
       "    <tr>\n",
       "      <th>28</th>\n",
       "      <td>Arctic Monkeys</td>\n",
       "      <td>garage rock,modern rock,permanent wave,rock,sh...</td>\n",
       "    </tr>\n",
       "    <tr>\n",
       "      <th>29</th>\n",
       "      <td>Peso Pluma</td>\n",
       "      <td>corrido,nueva musica mexicana,sad sierreno</td>\n",
       "    </tr>\n",
       "    <tr>\n",
       "      <th>30</th>\n",
       "      <td>d4vd</td>\n",
       "      <td>bedroom pop</td>\n",
       "    </tr>\n",
       "    <tr>\n",
       "      <th>31</th>\n",
       "      <td>Sam Smith,Kim Petras</td>\n",
       "      <td>alt z,pop,transpop,uk pop</td>\n",
       "    </tr>\n",
       "    <tr>\n",
       "      <th>32</th>\n",
       "      <td>JVKE</td>\n",
       "      <td>modern indie pop,pov: indie</td>\n",
       "    </tr>\n",
       "    <tr>\n",
       "      <th>33</th>\n",
       "      <td>Tom Odell</td>\n",
       "      <td>chill pop</td>\n",
       "    </tr>\n",
       "    <tr>\n",
       "      <th>34</th>\n",
       "      <td>Drake</td>\n",
       "      <td>canadian hip hop,canadian pop,hip hop,rap,toro...</td>\n",
       "    </tr>\n",
       "    <tr>\n",
       "      <th>35</th>\n",
       "      <td>JISOO</td>\n",
       "      <td>k-pop</td>\n",
       "    </tr>\n",
       "    <tr>\n",
       "      <th>36</th>\n",
       "      <td>Stephen Sanchez,Em Beihold</td>\n",
       "      <td>alt z,gen z singer-songwriter</td>\n",
       "    </tr>\n",
       "    <tr>\n",
       "      <th>37</th>\n",
       "      <td>OneRepublic</td>\n",
       "      <td>piano rock,pop</td>\n",
       "    </tr>\n",
       "    <tr>\n",
       "      <th>38</th>\n",
       "      <td>Ozuna,Feid</td>\n",
       "      <td>colombian pop,pop reggaeton,puerto rican pop,r...</td>\n",
       "    </tr>\n",
       "    <tr>\n",
       "      <th>39</th>\n",
       "      <td>Post Malone</td>\n",
       "      <td>dfw rap,melodic rap,pop,rap</td>\n",
       "    </tr>\n",
       "    <tr>\n",
       "      <th>40</th>\n",
       "      <td>Manuel Turizo</td>\n",
       "      <td>colombian pop,reggaeton,reggaeton colombiano,t...</td>\n",
       "    </tr>\n",
       "    <tr>\n",
       "      <th>41</th>\n",
       "      <td>Eminem</td>\n",
       "      <td>detroit hip hop,hip hop,rap</td>\n",
       "    </tr>\n",
       "    <tr>\n",
       "      <th>42</th>\n",
       "      <td>Jimin</td>\n",
       "      <td>k-pop</td>\n",
       "    </tr>\n",
       "    <tr>\n",
       "      <th>43</th>\n",
       "      <td>Bizarrap,Quevedo</td>\n",
       "      <td>argentine hip hop,pop venezolano,rap canario,t...</td>\n",
       "    </tr>\n",
       "    <tr>\n",
       "      <th>44</th>\n",
       "      <td>Libianca</td>\n",
       "      <td>afrobeats</td>\n",
       "    </tr>\n",
       "    <tr>\n",
       "      <th>45</th>\n",
       "      <td>Eladio Carrion,Bad Bunny</td>\n",
       "      <td>reggaeton,trap boricua,trap latino,trap triste...</td>\n",
       "    </tr>\n",
       "    <tr>\n",
       "      <th>46</th>\n",
       "      <td>RAYE,070 Shake</td>\n",
       "      <td>new jersey rap,uk contemporary r&amp;b,uk pop</td>\n",
       "    </tr>\n",
       "    <tr>\n",
       "      <th>47</th>\n",
       "      <td>Kali Uchis</td>\n",
       "      <td>colombian pop</td>\n",
       "    </tr>\n",
       "    <tr>\n",
       "      <th>48</th>\n",
       "      <td>Taiu,Milo j</td>\n",
       "      <td></td>\n",
       "    </tr>\n",
       "    <tr>\n",
       "      <th>49</th>\n",
       "      <td>Chino Pacas</td>\n",
       "      <td>corrido</td>\n",
       "    </tr>\n",
       "  </tbody>\n",
       "</table>\n",
       "</div>"
      ],
      "text/plain": [
       "                                       Artistas  \\\n",
       "0                      Grupo Frontera,Bad Bunny   \n",
       "1                     Eslabon Armado,Peso Pluma   \n",
       "2                          Yng Lvcas,Peso Pluma   \n",
       "3                                   Miley Cyrus   \n",
       "4                                 David Kushner   \n",
       "5                                   FIFTY FIFTY   \n",
       "6                               KAROL G,Shakira   \n",
       "7                                           SZA   \n",
       "8                               Feid,Young Miko   \n",
       "9                                  Harry Styles   \n",
       "10                       ROSALÍA,Rauw Alejandro   \n",
       "11                     Peso Pluma,Natanael Cano   \n",
       "12            Metro Boomin,The Weeknd,21 Savage   \n",
       "13                     The Weeknd,Ariana Grande   \n",
       "14                     PinkPantheress,Ice Spice   \n",
       "15                            Rema,Selena Gomez   \n",
       "16                                  Yandel,Feid   \n",
       "17                          Junior H,Peso Pluma   \n",
       "18  Natanael Cano,Peso Pluma,Gabito Ballesteros   \n",
       "19                Tyler, The Creator,Kali Uchis   \n",
       "20                            The Weeknd,Future   \n",
       "21                                   The Weeknd   \n",
       "22                                 Taylor Swift   \n",
       "23                                      Agust D   \n",
       "24                      David Guetta,Bebe Rexha   \n",
       "25                                Morgan Wallen   \n",
       "26                             Bizarrap,Shakira   \n",
       "27                         The Weeknd,Daft Punk   \n",
       "28                               Arctic Monkeys   \n",
       "29                                   Peso Pluma   \n",
       "30                                         d4vd   \n",
       "31                         Sam Smith,Kim Petras   \n",
       "32                                         JVKE   \n",
       "33                                    Tom Odell   \n",
       "34                                        Drake   \n",
       "35                                        JISOO   \n",
       "36                   Stephen Sanchez,Em Beihold   \n",
       "37                                  OneRepublic   \n",
       "38                                   Ozuna,Feid   \n",
       "39                                  Post Malone   \n",
       "40                                Manuel Turizo   \n",
       "41                                       Eminem   \n",
       "42                                        Jimin   \n",
       "43                             Bizarrap,Quevedo   \n",
       "44                                     Libianca   \n",
       "45                     Eladio Carrion,Bad Bunny   \n",
       "46                               RAYE,070 Shake   \n",
       "47                                   Kali Uchis   \n",
       "48                                  Taiu,Milo j   \n",
       "49                                  Chino Pacas   \n",
       "\n",
       "                                              Generos  \n",
       "0   musica chihuahuense,nueva musica mexicana,regg...  \n",
       "1   corrido,corridos tumbados,nueva musica mexican...  \n",
       "2          corrido,nueva musica mexicana,sad sierreno  \n",
       "3                                                 pop  \n",
       "4                             gen z singer-songwriter  \n",
       "5                                    k-pop girl group  \n",
       "6   colombian pop,dance pop,latin pop,pop,reggaeto...  \n",
       "7                                         pop,r&b,rap  \n",
       "8   colombian pop,pop reggaeton,reggaeton colombia...  \n",
       "9                                                 pop  \n",
       "10  pop,puerto rican pop,r&b en espanol,reggaeton,...  \n",
       "11  corrido,corridos tumbados,musica mexicana,nuev...  \n",
       "12  atl hip hop,canadian contemporary r&b,canadian...  \n",
       "13         canadian contemporary r&b,canadian pop,pop  \n",
       "14                                        bronx drill  \n",
       "15           afrobeats,nigerian pop,pop,post-teen pop  \n",
       "16  colombian pop,latin hip hop,pop reggaeton,regg...  \n",
       "17  corrido,corridos tumbados,musica mexicana,nuev...  \n",
       "18  corrido,corridos tumbados,musica mexicana,nuev...  \n",
       "19                          colombian pop,hip hop,rap  \n",
       "20  atl hip hop,canadian contemporary r&b,canadian...  \n",
       "21         canadian contemporary r&b,canadian pop,pop  \n",
       "22                                                pop  \n",
       "23                                              k-rap  \n",
       "24               big room,dance pop,edm,pop,pop dance  \n",
       "25                               contemporary country  \n",
       "26  argentine hip hop,colombian pop,dance pop,lati...  \n",
       "27  canadian contemporary r&b,canadian pop,electro...  \n",
       "28  garage rock,modern rock,permanent wave,rock,sh...  \n",
       "29         corrido,nueva musica mexicana,sad sierreno  \n",
       "30                                        bedroom pop  \n",
       "31                          alt z,pop,transpop,uk pop  \n",
       "32                        modern indie pop,pov: indie  \n",
       "33                                          chill pop  \n",
       "34  canadian hip hop,canadian pop,hip hop,rap,toro...  \n",
       "35                                              k-pop  \n",
       "36                      alt z,gen z singer-songwriter  \n",
       "37                                     piano rock,pop  \n",
       "38  colombian pop,pop reggaeton,puerto rican pop,r...  \n",
       "39                        dfw rap,melodic rap,pop,rap  \n",
       "40  colombian pop,reggaeton,reggaeton colombiano,t...  \n",
       "41                        detroit hip hop,hip hop,rap  \n",
       "42                                              k-pop  \n",
       "43  argentine hip hop,pop venezolano,rap canario,t...  \n",
       "44                                          afrobeats  \n",
       "45  reggaeton,trap boricua,trap latino,trap triste...  \n",
       "46          new jersey rap,uk contemporary r&b,uk pop  \n",
       "47                                      colombian pop  \n",
       "48                                                     \n",
       "49                                            corrido  "
      ]
     },
     "execution_count": 325,
     "metadata": {},
     "output_type": "execute_result"
    }
   ],
   "source": [
    "base = pd.concat([artists_series,genres_series], axis=1)\n",
    "base.rename(columns={0:'Artistas', 1:'Generos'}, inplace=True)\n",
    "base"
   ]
  },
  {
   "cell_type": "code",
   "execution_count": 327,
   "metadata": {
    "id": "Z6UZC3t4O4yc"
   },
   "outputs": [],
   "source": [
    "#RETORNA UMA LISTA COM TODOS OS GÊNEROS DE TODOS OS ARTISTAS DA MÚSICAS TOP50 E DEPOIS CONVERTE EM UMA SÉRIE\n",
    "all_genres = []\n",
    "\n",
    "for i in range(len(genres)):\n",
    "  all_genres += genres[i]\n",
    "all_genres_series = pd.Series(all_genres)"
   ]
  },
  {
   "cell_type": "code",
   "execution_count": 328,
   "metadata": {},
   "outputs": [
    {
     "data": {
      "text/plain": [
       "0        musica chihuahuense\n",
       "1      nueva musica mexicana\n",
       "2                  reggaeton\n",
       "3                trap latino\n",
       "4              urbano latino\n",
       "               ...          \n",
       "174           new jersey rap\n",
       "175      uk contemporary r&b\n",
       "176                   uk pop\n",
       "177            colombian pop\n",
       "178                  corrido\n",
       "Length: 179, dtype: object"
      ]
     },
     "execution_count": 328,
     "metadata": {},
     "output_type": "execute_result"
    }
   ],
   "source": [
    "all_genres_series"
   ]
  },
  {
   "cell_type": "code",
   "execution_count": 342,
   "metadata": {
    "id": "v5Y4O2FOQvaR"
   },
   "outputs": [],
   "source": [
    "top10_genres = all_genres_series.value_counts().head(10)"
   ]
  },
  {
   "cell_type": "markdown",
   "metadata": {},
   "source": [
    "## Top 10 Gêneros nas Top 50 músicas"
   ]
  },
  {
   "cell_type": "code",
   "execution_count": 343,
   "metadata": {
    "id": "qNr6vG4wRieq"
   },
   "outputs": [
    {
     "data": {
      "image/png": "[encoded data removed]",
      "text/plain": [
       "<Figure size 640x480 with 1 Axes>"
      ]
     },
     "metadata": {},
     "output_type": "display_data"
    }
   ],
   "source": [
    "x = top10_genres.index\n",
    "height = top10_genres.values\n",
    "\n",
    "grafico = plt.bar(x, height=height)\n",
    "plt.xticks(rotation = 90)\n",
    "plt.gca().set_title('TOP 50 Músicas')\n",
    "plt.xlabel(\"Gênero\")\n",
    "plt.ylabel(\"Frequência\")\n",
    "plt.bar_label(grafico, fontsize=10)\n",
    "plt.show()"
   ]
  },
  {
   "cell_type": "markdown",
   "metadata": {},
   "source": [
    "Lembrando que o spotify categoriza os gêneros de acordo com os artistas. E um artista pode representar vários gêneros. "
   ]
  },
  {
   "cell_type": "markdown",
   "metadata": {},
   "source": [
    "Ao considerar os possíveis gêneros presentes em cada música, o gênero foi contabilizado apenas uma vez. Ou seja, se uma música possui dois artistas que representam o mesmo gênero, esse gênero foi contabilizado apenas uma vez."
   ]
  }
 ],
 "metadata": {
  "colab": {
   "provenance": []
  },
  "kernelspec": {
   "display_name": "Python 3 (ipykernel)",
   "language": "python",
   "name": "python3"
  },
  "language_info": {
   "codemirror_mode": {
    "name": "ipython",
    "version": 3
   },
   "file_extension": ".py",
   "mimetype": "text/x-python",
   "name": "python",
   "nbconvert_exporter": "python",
   "pygments_lexer": "ipython3",
   "version": "3.10.9"
  }
 },
 "nbformat": 4,
 "nbformat_minor": 1
}
